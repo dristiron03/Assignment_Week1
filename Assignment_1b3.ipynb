{
 "cells": [
  {
   "cell_type": "markdown",
   "metadata": {},
   "source": [
    "a. i) The histogram of PetalLength and PetalWidth shows the presence of outliers, whereas SepalLength and SepalWidth do not.\n",
    "       The SepalLength and SepalWidth has close to symmetric distributions in contrast to Petalwidth and PetalLength which is          bimodal in configuration."
   ]
  },
  {
   "cell_type": "markdown",
   "metadata": {},
   "source": [
    "a. ii) Yes, 2.5."
   ]
  },
  {
   "cell_type": "markdown",
   "metadata": {},
   "source": [
    "a. iii) Yes, Sepal Length and PetalWidth."
   ]
  },
  {
   "cell_type": "markdown",
   "metadata": {},
   "source": [
    "a. iv) Based solely upon the boxplots, SepalWidth appears to explain greatest amount of the data."
   ]
  },
  {
   "cell_type": "markdown",
   "metadata": {},
   "source": [
    "b. i) Yes, two outliers are observed based on the boxplots. Features are 100 and 81."
   ]
  },
  {
   "cell_type": "markdown",
   "metadata": {},
   "source": [
    "b. ii) The second and fourth histograms display skewed left and high probable outlier distribution."
   ]
  },
  {
   "cell_type": "markdown",
   "metadata": {},
   "source": [
    "b. iii) From the Histogram second and fourth, which shows the presence of high probable outliers, indicates us of a very high           frequency writing a particular digit. It also tells us the unpredictives of frequencies for higher digits. It might be         some mistake int the data, or a different pattern for the higher values."
   ]
  },
  {
   "cell_type": "code",
   "execution_count": null,
   "metadata": {},
   "outputs": [],
   "source": []
  }
 ],
 "metadata": {
  "kernelspec": {
   "display_name": "Python 3",
   "language": "python",
   "name": "python3"
  },
  "language_info": {
   "codemirror_mode": {
    "name": "ipython",
    "version": 3
   },
   "file_extension": ".py",
   "mimetype": "text/x-python",
   "name": "python",
   "nbconvert_exporter": "python",
   "pygments_lexer": "ipython3",
   "version": "3.7.1"
  }
 },
 "nbformat": 4,
 "nbformat_minor": 2
}
